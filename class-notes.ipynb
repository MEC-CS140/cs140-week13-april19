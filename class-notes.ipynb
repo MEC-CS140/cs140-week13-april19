{
 "cells": [
  {
   "cell_type": "markdown",
   "metadata": {},
   "source": [
    "# Welcome to CS 140: Python Unit, Part 1\n",
    "This Notebook is for the first few weeks in Python, we will transition to making our own standalone applications in Part 2!\n",
    "\n",
    "**Make a new Code cell by clicking the + Code button at the top of the notebook.**"
   ]
  },
  {
   "cell_type": "code",
   "execution_count": 9,
   "metadata": {},
   "outputs": [
    {
     "name": "stdout",
     "output_type": "stream",
     "text": [
      "j is 21 years old and is from NYC in the BK borough. And they can legally drive.\n"
     ]
    }
   ],
   "source": [
    "# In Class Assignment 5 Review\n",
    "\n",
    "name = input(\"What is your name?\")\n",
    "age = input(\"What is your age?\")\n",
    "hometown = input(\"What is your hometown?\")\n",
    "full_statment = \"{} is {} years old and is from {}\"\n",
    "\n",
    "\n",
    "if hometown == \"NYC\" or  hometown == \"New York City\":\n",
    "    boro = input(\"What is your borough?\")\n",
    "    nyc_statment = full_statment + \" in the {} borough\"\n",
    "    completed_statment = nyc_statment.format(name, age, hometown, boro)\n",
    "else:\n",
    "    completed_statment = full_statment.format(name, age, hometown)\n",
    "\n",
    "\n",
    "if int(age) >= 16:\n",
    "    driver_statement = input(\"Do you have a driver's license or permit?\")\n",
    "    \n",
    "    if driver_statement == \"yes\" or driver_statement == \"Yes\" or driver_statement == \"YES\":\n",
    "        completed_statment = completed_statment + \". And they can legally drive.\"\n",
    "\n",
    "print(completed_statment)\n",
    "\n"
   ]
  }
 ],
 "metadata": {
  "kernelspec": {
   "display_name": "Python 3",
   "language": "python",
   "name": "python3"
  },
  "language_info": {
   "codemirror_mode": {
    "name": "ipython",
    "version": 3
   },
   "file_extension": ".py",
   "mimetype": "text/x-python",
   "name": "python",
   "nbconvert_exporter": "python",
   "pygments_lexer": "ipython3",
   "version": "3.10.13"
  }
 },
 "nbformat": 4,
 "nbformat_minor": 2
}
